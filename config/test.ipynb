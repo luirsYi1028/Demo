{
 "cells": [
  {
   "cell_type": "code",
   "execution_count": 1,
   "metadata": {},
   "outputs": [
    {
     "data": {
      "text/plain": [
       "2222"
      ]
     },
     "execution_count": 1,
     "metadata": {},
     "output_type": "execute_result"
    }
   ],
   "source": [
    "2222"
   ]
  },
  {
   "cell_type": "code",
   "execution_count": 6,
   "metadata": {},
   "outputs": [
    {
     "name": "stdout",
     "output_type": "stream",
     "text": [
      "Read INI files: ['example.ini']\n",
      "Sections: ['database', 'logging']\n"
     ]
    }
   ],
   "source": [
    "import configparser\n",
    "\n",
    "# 创建配置对象\n",
    "config = configparser.ConfigParser()\n",
    "\n",
    "# 读取INI文件\n",
    "config.read('example.ini')\n",
    "\n",
    "# 输出已读取的INI文件列表\n",
    "print(\"Read INI files:\", config.read('example.ini'))\n",
    "\n",
    "# 打印配置对象的sections\n",
    "print(\"Sections:\", config.sections())"
   ]
  }
 ],
 "metadata": {
  "kernelspec": {
   "display_name": "Python 3",
   "language": "python",
   "name": "python3"
  },
  "language_info": {
   "codemirror_mode": {
    "name": "ipython",
    "version": 3
   },
   "file_extension": ".py",
   "mimetype": "text/x-python",
   "name": "python",
   "nbconvert_exporter": "python",
   "pygments_lexer": "ipython3",
   "version": "3.10.0"
  }
 },
 "nbformat": 4,
 "nbformat_minor": 2
}
